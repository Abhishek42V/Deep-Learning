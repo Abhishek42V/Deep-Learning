{
  "nbformat": 4,
  "nbformat_minor": 0,
  "metadata": {
    "colab": {
      "provenance": []
    },
    "kernelspec": {
      "name": "python3",
      "display_name": "Python 3"
    },
    "language_info": {
      "name": "python"
    }
  },
  "cells": [
    {
      "cell_type": "code",
      "execution_count": null,
      "metadata": {
        "colab": {
          "base_uri": "https://localhost:8080/"
        },
        "id": "wIKy245zWnXf",
        "outputId": "cf514947-dabb-4ef3-c72c-0a7d8926da6e"
      },
      "outputs": [
        {
          "output_type": "stream",
          "name": "stdout",
          "text": [
            "2.15.0\n"
          ]
        }
      ],
      "source": [
        "#Importing the necessary libraries\n",
        "import tensorflow as tf\n",
        "import random\n",
        "import numpy as np\n",
        "import matplotlib.pyplot as plt\n",
        "from tensorflow.keras.preprocessing.image import ImageDataGenerator\n",
        "print(tf.__version__)"
      ]
    },
    {
      "cell_type": "code",
      "source": [
        "#Loading the cifar10 dataset from tfds\n",
        "(x_train,y_train),(x_test,y_test)=tf.keras.datasets.cifar10.load_data()"
      ],
      "metadata": {
        "id": "Z_VABGdFgrwd",
        "colab": {
          "base_uri": "https://localhost:8080/"
        },
        "outputId": "bce01cb9-3124-4558-d13b-0cb2c2ba4551"
      },
      "execution_count": null,
      "outputs": [
        {
          "output_type": "stream",
          "name": "stdout",
          "text": [
            "Downloading data from https://www.cs.toronto.edu/~kriz/cifar-10-python.tar.gz\n",
            "170498071/170498071 [==============================] - 13s 0us/step\n"
          ]
        }
      ]
    },
    {
      "cell_type": "code",
      "source": [
        "#Verifying the size,shape of the input data\n",
        "print(x_train.shape)\n",
        "print(y_train.shape)\n",
        "print(x_test.shape)\n",
        "print(y_test.shape)"
      ],
      "metadata": {
        "colab": {
          "base_uri": "https://localhost:8080/"
        },
        "id": "XnPljhrQt-QT",
        "outputId": "e52a1fd2-d2af-43af-826c-23653cffbcc2"
      },
      "execution_count": null,
      "outputs": [
        {
          "output_type": "stream",
          "name": "stdout",
          "text": [
            "(50000, 32, 32, 3)\n",
            "(50000, 1)\n",
            "(10000, 32, 32, 3)\n",
            "(10000, 1)\n"
          ]
        }
      ]
    },
    {
      "cell_type": "markdown",
      "source": [
        "Now, the Cifar10 dataset consists of 10 categories numbered from 1 to 10.The 10 categories are as follows:airplanes, cars, birds, cats, deer, dogs, frogs, horses, ships, and trucks.\n",
        "\n",
        "Additional information regarding this dataset can be found at the following URL:\n",
        "https://www.cs.toronto.edu/~kriz/cifar.html"
      ],
      "metadata": {
        "id": "aukU4y06Ysis"
      }
    },
    {
      "cell_type": "code",
      "source": [
        "#This function takes the array of outputs and returns a dictionary consisting of the key value being the category and values being the number of images in each category\n",
        "def counter(array):\n",
        "  list=[]\n",
        "  counter=[]\n",
        "  j=0\n",
        "  for i in range(len(array)):\n",
        "    if array[i] in list:\n",
        "      pass\n",
        "    elif array[i] not in list:\n",
        "      list.append(array[i][0])\n",
        "\n",
        "  beta=[]\n",
        "  for k in range(len(list)):\n",
        "    alpha=0\n",
        "    for i in range(len(array)):\n",
        "      if array[i]==list[k]:\n",
        "        alpha=alpha+1\n",
        "    beta.append(alpha)\n",
        "\n",
        "  dictionary={list[i]:beta[i] for i in range(len(list))}\n",
        "  #above should return a dictionary with keys being the categories and the values being the frequency of each\n",
        "\n",
        "  return dictionary\n"
      ],
      "metadata": {
        "id": "ULpYZ0GmydNS"
      },
      "execution_count": null,
      "outputs": []
    },
    {
      "cell_type": "code",
      "source": [
        "#Calculating number of images per category\n",
        "print('For training , the number of images per category is as follows:',counter(y_train))\n",
        "print('For testing , the number of images per category is as follows:',counter(y_test))"
      ],
      "metadata": {
        "colab": {
          "base_uri": "https://localhost:8080/"
        },
        "id": "MC8eACE52lrw",
        "outputId": "99557073-b3af-40f9-cde9-48feb4b4472f"
      },
      "execution_count": null,
      "outputs": [
        {
          "output_type": "stream",
          "name": "stdout",
          "text": [
            "For training , the number of images per category is as follows: {6: 5000, 9: 5000, 4: 5000, 1: 5000, 2: 5000, 7: 5000, 8: 5000, 3: 5000, 5: 5000, 0: 5000}\n",
            "For testing , the number of images per category is as follows: {3: 1000, 8: 1000, 0: 1000, 6: 1000, 1: 1000, 9: 1000, 5: 1000, 7: 1000, 4: 1000, 2: 1000}\n"
          ]
        }
      ]
    },
    {
      "cell_type": "code",
      "source": [
        "#Given that the original data provides training and test sets,a validation set is also prepared\n",
        "from sklearn.model_selection import train_test_split\n",
        "\n",
        "#Splitting up the original dataset into training and validaton sets in ratio 90:10\n",
        "train_x,val_x,train_y,val_y=train_test_split(x_train,y_train, test_size=0.1, random_state=27, shuffle=True)"
      ],
      "metadata": {
        "id": "DpNzIORwmn_A"
      },
      "execution_count": null,
      "outputs": []
    },
    {
      "cell_type": "code",
      "source": [
        "#Given that the input images in the RGB channels have pixel values from 0 to 255,normalization is done\n",
        "#Normalizing the data\n",
        "train_x=train_x/255.0\n",
        "val_x=val_x/255.0\n",
        "x_test=x_test/255.0\n",
        "\n",
        "#One hot encoding the labels into corresponding vectors\n",
        "train_y=tf.keras.utils.to_categorical(train_y)\n",
        "val_y=tf.keras.utils.to_categorical(val_y)\n",
        "\n",
        "print(\"train_x.shape\", train_x.shape)\n",
        "print(\"val_x.shape\", val_x.shape)\n",
        "print(\"train_y.shape\",train_y.shape)\n",
        "print(\"val_y.shape\", val_y.shape)"
      ],
      "metadata": {
        "id": "NRwvqkZD2ocH",
        "colab": {
          "base_uri": "https://localhost:8080/"
        },
        "outputId": "45737f10-fd48-4320-f2ae-e36da3606a70"
      },
      "execution_count": null,
      "outputs": [
        {
          "output_type": "stream",
          "name": "stdout",
          "text": [
            "train_x.shape (45000, 32, 32, 3)\n",
            "val_x.shape (5000, 32, 32, 3)\n",
            "train_y.shape (45000, 10)\n",
            "val_y.shape (5000, 10)\n"
          ]
        }
      ]
    },
    {
      "cell_type": "code",
      "source": [
        "#Setting up the Augmentation for the images in the training dataset\n",
        "#The above is done to reduce overfitting to the existing data and also to increase model's capability to recognize variations in inputs\n",
        "\n",
        "#Instantiate instances of the ImageDataGenerator class for the training and validation sets\n",
        "train_datagen = ImageDataGenerator(rotation_range=15,\n",
        "                                   width_shift_range=0.1,\n",
        "                                   height_shift_range=0.1,\n",
        "                                   shear_range=0.1,\n",
        "                                   zoom_range=0.1,\n",
        "                                   horizontal_flip=True,\n",
        "                                   fill_mode='nearest')\n",
        "\n",
        "val_datagen = ImageDataGenerator()"
      ],
      "metadata": {
        "id": "U4VgP3Tao4Py"
      },
      "execution_count": null,
      "outputs": []
    },
    {
      "cell_type": "code",
      "source": [
        "#Defining the parameters for the generators\n",
        "train_generator=train_datagen.flow((train_x,train_y),\n",
        "                                   batch_size=50,\n",
        "                                   seed=27,\n",
        "                                   shuffle=True)\n",
        "\n",
        "val_generator=val_datagen.flow((val_x,val_y),\n",
        "                                   batch_size=50,\n",
        "                                   seed=27,\n",
        "                                   shuffle=True)"
      ],
      "metadata": {
        "id": "32kR1SCsuOPY"
      },
      "execution_count": null,
      "outputs": []
    },
    {
      "cell_type": "code",
      "source": [
        "#Defining the model using TensorFlow Sequential API,Convolution layers,Batch Normalization,Dropout\n",
        "\n",
        "model=tf.keras.models.Sequential([\n",
        "\n",
        "    tf.keras.layers.Conv2D(32,(2,2), padding=\"same\",strides=(1,1),input_shape=(32,32,3), activation='relu'),\n",
        "    tf.keras.layers.BatchNormalization(),\n",
        "    tf.keras.layers.Conv2D(1024,(2,2),padding=\"same\",strides=(1,1),activation='relu'),\n",
        "    tf.keras.layers.BatchNormalization(),\n",
        "    tf.keras.layers.MaxPooling2D(2,2),\n",
        "\n",
        "    tf.keras.layers.Conv2D(64,(3,3),padding=\"same\",strides=(1,1),activation='relu'),#2,2 changed to 3,3kernel\n",
        "    tf.keras.layers.BatchNormalization(),\n",
        "    tf.keras.layers.Conv2D(256,(2,2),padding=\"same\",strides=(1,1),activation='relu'),\n",
        "    tf.keras.layers.BatchNormalization(),\n",
        "    tf.keras.layers.MaxPooling2D(2,2),\n",
        "\n",
        "    tf.keras.layers.Conv2D(64,(5,5),padding=\"same\",strides=(1,1),activation='relu'),#2,2 changed to 5,5 kernel\n",
        "    tf.keras.layers.BatchNormalization(),\n",
        "    tf.keras.layers.Conv2D(256,(2,2),padding=\"same\",strides=(1,1),activation='relu'),\n",
        "    tf.keras.layers.BatchNormalization(),\n",
        "    tf.keras.layers.MaxPooling2D(2,2),\n",
        "\n",
        "    tf.keras.layers.Flatten(),\n",
        "\n",
        "    tf.keras.layers.Dense(256, activation='relu'),\n",
        "    tf.keras.layers.Dense(1024, activation='relu'),\n",
        "\n",
        "    tf.keras.layers.Dropout(0.3),\n",
        "\n",
        "    tf.keras.layers.Dense(10,activation='softmax'),\n",
        "])"
      ],
      "metadata": {
        "id": "sD1Ry46N6JNs"
      },
      "execution_count": null,
      "outputs": []
    },
    {
      "cell_type": "code",
      "source": [
        "model.summary()"
      ],
      "metadata": {
        "colab": {
          "base_uri": "https://localhost:8080/"
        },
        "id": "IvU7CEHI8QPR",
        "outputId": "605866b5-276d-4a37-d9f1-526abbf88f66"
      },
      "execution_count": null,
      "outputs": [
        {
          "output_type": "stream",
          "name": "stdout",
          "text": [
            "Model: \"sequential\"\n",
            "_________________________________________________________________\n",
            " Layer (type)                Output Shape              Param #   \n",
            "=================================================================\n",
            " conv2d (Conv2D)             (None, 32, 32, 32)        416       \n",
            "                                                                 \n",
            " batch_normalization (Batch  (None, 32, 32, 32)        128       \n",
            " Normalization)                                                  \n",
            "                                                                 \n",
            " conv2d_1 (Conv2D)           (None, 32, 32, 1024)      132096    \n",
            "                                                                 \n",
            " batch_normalization_1 (Bat  (None, 32, 32, 1024)      4096      \n",
            " chNormalization)                                                \n",
            "                                                                 \n",
            " max_pooling2d (MaxPooling2  (None, 16, 16, 1024)      0         \n",
            " D)                                                              \n",
            "                                                                 \n",
            " conv2d_2 (Conv2D)           (None, 16, 16, 64)        589888    \n",
            "                                                                 \n",
            " batch_normalization_2 (Bat  (None, 16, 16, 64)        256       \n",
            " chNormalization)                                                \n",
            "                                                                 \n",
            " conv2d_3 (Conv2D)           (None, 16, 16, 256)       65792     \n",
            "                                                                 \n",
            " batch_normalization_3 (Bat  (None, 16, 16, 256)       1024      \n",
            " chNormalization)                                                \n",
            "                                                                 \n",
            " max_pooling2d_1 (MaxPoolin  (None, 8, 8, 256)         0         \n",
            " g2D)                                                            \n",
            "                                                                 \n",
            " conv2d_4 (Conv2D)           (None, 8, 8, 64)          409664    \n",
            "                                                                 \n",
            " batch_normalization_4 (Bat  (None, 8, 8, 64)          256       \n",
            " chNormalization)                                                \n",
            "                                                                 \n",
            " conv2d_5 (Conv2D)           (None, 8, 8, 256)         65792     \n",
            "                                                                 \n",
            " batch_normalization_5 (Bat  (None, 8, 8, 256)         1024      \n",
            " chNormalization)                                                \n",
            "                                                                 \n",
            " max_pooling2d_2 (MaxPoolin  (None, 4, 4, 256)         0         \n",
            " g2D)                                                            \n",
            "                                                                 \n",
            " flatten (Flatten)           (None, 4096)              0         \n",
            "                                                                 \n",
            " dense (Dense)               (None, 256)               1048832   \n",
            "                                                                 \n",
            " dense_1 (Dense)             (None, 1024)              263168    \n",
            "                                                                 \n",
            " dropout (Dropout)           (None, 1024)              0         \n",
            "                                                                 \n",
            " dense_2 (Dense)             (None, 10)                10250     \n",
            "                                                                 \n",
            "=================================================================\n",
            "Total params: 2592682 (9.89 MB)\n",
            "Trainable params: 2589290 (9.88 MB)\n",
            "Non-trainable params: 3392 (13.25 KB)\n",
            "_________________________________________________________________\n"
          ]
        }
      ]
    },
    {
      "cell_type": "code",
      "source": [
        "model.compile(optimizer=tf.keras.optimizers.Adam(),\n",
        "              metrics=['accuracy'],\n",
        "              loss='categorical_crossentropy')"
      ],
      "metadata": {
        "id": "VFjigKJN8a99"
      },
      "execution_count": null,
      "outputs": []
    },
    {
      "cell_type": "code",
      "source": [
        "#Conduction of the training\n",
        "output_history = model.fit(\n",
        "      train_generator,\n",
        "      steps_per_epoch=train_generator.n//train_generator.batch_size,\n",
        "      epochs=30,\n",
        "      verbose=1,\n",
        "      validation_data=val_generator,\n",
        "      validation_steps=val_generator.n//val_generator.batch_size,\n",
        "      )"
      ],
      "metadata": {
        "colab": {
          "base_uri": "https://localhost:8080/"
        },
        "id": "K9dMR7209CUJ",
        "outputId": "6ed89bfb-e5b4-4dcf-b81d-1c40af8e0ded"
      },
      "execution_count": null,
      "outputs": [
        {
          "output_type": "stream",
          "name": "stdout",
          "text": [
            "Epoch 1/30\n",
            "900/900 [==============================] - 54s 49ms/step - loss: 1.5145 - accuracy: 0.4563 - val_loss: 1.1824 - val_accuracy: 0.6014\n",
            "Epoch 2/30\n",
            "900/900 [==============================] - 44s 49ms/step - loss: 1.0569 - accuracy: 0.6282 - val_loss: 0.9177 - val_accuracy: 0.6838\n",
            "Epoch 3/30\n",
            "900/900 [==============================] - 45s 50ms/step - loss: 0.8930 - accuracy: 0.6889 - val_loss: 0.8034 - val_accuracy: 0.7160\n",
            "Epoch 4/30\n",
            "900/900 [==============================] - 45s 50ms/step - loss: 0.7873 - accuracy: 0.7298 - val_loss: 0.7336 - val_accuracy: 0.7560\n",
            "Epoch 5/30\n",
            "900/900 [==============================] - 45s 50ms/step - loss: 0.7172 - accuracy: 0.7554 - val_loss: 0.7608 - val_accuracy: 0.7452\n",
            "Epoch 6/30\n",
            "900/900 [==============================] - 46s 51ms/step - loss: 0.6566 - accuracy: 0.7760 - val_loss: 0.6111 - val_accuracy: 0.7974\n",
            "Epoch 7/30\n",
            "900/900 [==============================] - 45s 50ms/step - loss: 0.6131 - accuracy: 0.7933 - val_loss: 0.6047 - val_accuracy: 0.8014\n",
            "Epoch 8/30\n",
            "900/900 [==============================] - 45s 50ms/step - loss: 0.5732 - accuracy: 0.8079 - val_loss: 0.5533 - val_accuracy: 0.8140\n",
            "Epoch 9/30\n",
            "900/900 [==============================] - 46s 51ms/step - loss: 0.5416 - accuracy: 0.8183 - val_loss: 0.7199 - val_accuracy: 0.7842\n",
            "Epoch 10/30\n",
            "900/900 [==============================] - 45s 50ms/step - loss: 0.5185 - accuracy: 0.8261 - val_loss: 0.4740 - val_accuracy: 0.8384\n",
            "Epoch 11/30\n",
            "900/900 [==============================] - 45s 50ms/step - loss: 0.5001 - accuracy: 0.8314 - val_loss: 0.7717 - val_accuracy: 0.7768\n",
            "Epoch 12/30\n",
            "900/900 [==============================] - 46s 51ms/step - loss: 0.4736 - accuracy: 0.8409 - val_loss: 0.6696 - val_accuracy: 0.7974\n",
            "Epoch 13/30\n",
            "900/900 [==============================] - 45s 50ms/step - loss: 0.4539 - accuracy: 0.8471 - val_loss: 0.4810 - val_accuracy: 0.8512\n",
            "Epoch 14/30\n",
            "900/900 [==============================] - 46s 51ms/step - loss: 0.4402 - accuracy: 0.8539 - val_loss: 0.4853 - val_accuracy: 0.8402\n",
            "Epoch 15/30\n",
            "900/900 [==============================] - 46s 51ms/step - loss: 0.4215 - accuracy: 0.8586 - val_loss: 0.5252 - val_accuracy: 0.8328\n",
            "Epoch 16/30\n",
            "900/900 [==============================] - 46s 51ms/step - loss: 0.4117 - accuracy: 0.8603 - val_loss: 0.5869 - val_accuracy: 0.8206\n",
            "Epoch 17/30\n",
            "900/900 [==============================] - 46s 51ms/step - loss: 0.4006 - accuracy: 0.8661 - val_loss: 0.6090 - val_accuracy: 0.8112\n",
            "Epoch 18/30\n",
            "900/900 [==============================] - 46s 51ms/step - loss: 0.3892 - accuracy: 0.8701 - val_loss: 0.4764 - val_accuracy: 0.8484\n",
            "Epoch 19/30\n",
            "900/900 [==============================] - 46s 51ms/step - loss: 0.3758 - accuracy: 0.8752 - val_loss: 0.5931 - val_accuracy: 0.8260\n",
            "Epoch 20/30\n",
            "900/900 [==============================] - 47s 52ms/step - loss: 0.3692 - accuracy: 0.8762 - val_loss: 0.4947 - val_accuracy: 0.8536\n",
            "Epoch 21/30\n",
            "900/900 [==============================] - 47s 52ms/step - loss: 0.3604 - accuracy: 0.8789 - val_loss: 0.4392 - val_accuracy: 0.8650\n",
            "Epoch 22/30\n",
            "900/900 [==============================] - 45s 50ms/step - loss: 0.3509 - accuracy: 0.8826 - val_loss: 0.4186 - val_accuracy: 0.8732\n",
            "Epoch 23/30\n",
            "900/900 [==============================] - 47s 52ms/step - loss: 0.3434 - accuracy: 0.8853 - val_loss: 0.3873 - val_accuracy: 0.8720\n",
            "Epoch 24/30\n",
            "900/900 [==============================] - 46s 51ms/step - loss: 0.3293 - accuracy: 0.8888 - val_loss: 0.4187 - val_accuracy: 0.8676\n",
            "Epoch 25/30\n",
            "900/900 [==============================] - 45s 50ms/step - loss: 0.3224 - accuracy: 0.8914 - val_loss: 0.4559 - val_accuracy: 0.8556\n",
            "Epoch 26/30\n",
            "900/900 [==============================] - 46s 51ms/step - loss: 0.3175 - accuracy: 0.8949 - val_loss: 0.5247 - val_accuracy: 0.8634\n",
            "Epoch 27/30\n",
            "900/900 [==============================] - 47s 52ms/step - loss: 0.3086 - accuracy: 0.8945 - val_loss: 0.4390 - val_accuracy: 0.8726\n",
            "Epoch 28/30\n",
            "900/900 [==============================] - 45s 50ms/step - loss: 0.3063 - accuracy: 0.8965 - val_loss: 0.5582 - val_accuracy: 0.8388\n",
            "Epoch 29/30\n",
            "900/900 [==============================] - 46s 51ms/step - loss: 0.2912 - accuracy: 0.9020 - val_loss: 0.3561 - val_accuracy: 0.8892\n",
            "Epoch 30/30\n",
            "900/900 [==============================] - 46s 51ms/step - loss: 0.2907 - accuracy: 0.9021 - val_loss: 0.3757 - val_accuracy: 0.8862\n"
          ]
        }
      ]
    },
    {
      "cell_type": "code",
      "source": [
        "#Defines a function to plot the training and validation's loss and accuracy\n",
        "\n",
        "def plotter(variable):\n",
        "  acc = variable.history['accuracy']\n",
        "  val_acc = variable.history['val_accuracy']\n",
        "  loss = variable.history['loss']\n",
        "  val_loss = variable.history['val_loss']\n",
        "\n",
        "  epochs = range(len(acc))\n",
        "  plt.style.use('dark_background')\n",
        "  plt.plot(epochs, acc, 'r',linewidth=3, label='Training accuracy',marker='o')\n",
        "  plt.plot(epochs, val_acc, 'g', label='Validation accuracy',linewidth=3,marker='s')\n",
        "  plt.xlabel('Number of epochs')\n",
        "  plt.ylabel('Numerical Value')\n",
        "  plt.title('Training and validation accuracy')\n",
        "  plt.legend()\n",
        "\n",
        "  plt.figure()\n",
        "\n",
        "  plt.plot(epochs, loss, 'r', label='Training Loss',linewidth=3,marker='o')\n",
        "  plt.plot(epochs, val_loss, 'g', label='Validation Loss',linewidth=3,marker='s')\n",
        "  plt.xlabel('Number of epochs')\n",
        "  plt.ylabel('Numerical Value')\n",
        "  plt.title('Training and validation loss')\n",
        "  plt.legend()\n",
        "\n",
        "  plt.show()"
      ],
      "metadata": {
        "id": "274icFwq_otm"
      },
      "execution_count": null,
      "outputs": []
    },
    {
      "cell_type": "code",
      "source": [
        "#Plots the above details based on training outputs\n",
        "plotter(output_history)"
      ],
      "metadata": {
        "colab": {
          "base_uri": "https://localhost:8080/",
          "height": 927
        },
        "id": "NvR2tqsYsLzH",
        "outputId": "c0f9292d-691c-421d-bda5-aea2d39c8526"
      },
      "execution_count": null,
      "outputs": [
        {
          "output_type": "display_data",
          "data": {
            "text/plain": [
              "<Figure size 640x480 with 1 Axes>"
            ],
            "image/png": "[encoded data removed]"
          },
          "metadata": {}
        },
        {
          "output_type": "display_data",
          "data": {
            "text/plain": [
              "<Figure size 640x480 with 1 Axes>"
            ],
            "image/png": "[encoded data removed]"
          },
          "metadata": {}
        }
      ]
    },
    {
      "cell_type": "code",
      "source": [
        "from sklearn.metrics import accuracy_score\n",
        "\n",
        "prediction = model.predict(x_test,verbose=1,batch_size=50)\n",
        "y_hat=np.argmax(prediction,axis=-1)\n",
        "\n",
        "#Accuracy with the test data\n",
        "print('Test Data accuracy is : ',accuracy_score(y_test, y_hat)*100)\n"
      ],
      "metadata": {
        "colab": {
          "base_uri": "https://localhost:8080/"
        },
        "id": "Lqr1_MQ5911a",
        "outputId": "71689ee1-da69-48e7-8b85-51a51317f455"
      },
      "execution_count": null,
      "outputs": [
        {
          "output_type": "stream",
          "name": "stdout",
          "text": [
            "200/200 [==============================] - 2s 11ms/step\n",
            "Test Data accuracy is :  86.83\n"
          ]
        }
      ]
    },
    {
      "cell_type": "code",
      "source": [
        "#creation of a classification report\n",
        "\n",
        "from sklearn.metrics import classification_report\n",
        "\n",
        "print(classification_report(y_test, y_hat))"
      ],
      "metadata": {
        "colab": {
          "base_uri": "https://localhost:8080/"
        },
        "id": "AWLs9tli9ft9",
        "outputId": "8c8a49a5-6fb6-4820-9d86-8e5b9f81088d"
      },
      "execution_count": null,
      "outputs": [
        {
          "output_type": "stream",
          "name": "stdout",
          "text": [
            "              precision    recall  f1-score   support\n",
            "\n",
            "           0       0.90      0.88      0.89      1000\n",
            "           1       0.89      0.96      0.92      1000\n",
            "           2       0.82      0.84      0.83      1000\n",
            "           3       0.80      0.71      0.75      1000\n",
            "           4       0.86      0.83      0.85      1000\n",
            "           5       0.87      0.77      0.82      1000\n",
            "           6       0.79      0.96      0.87      1000\n",
            "           7       0.90      0.91      0.90      1000\n",
            "           8       0.95      0.91      0.93      1000\n",
            "           9       0.92      0.92      0.92      1000\n",
            "\n",
            "    accuracy                           0.87     10000\n",
            "   macro avg       0.87      0.87      0.87     10000\n",
            "weighted avg       0.87      0.87      0.87     10000\n",
            "\n"
          ]
        }
      ]
    },
    {
      "cell_type": "code",
      "source": [
        "print(y_hat)\n",
        "print(y_test)"
      ],
      "metadata": {
        "id": "U600I6Aa-eEj",
        "colab": {
          "base_uri": "https://localhost:8080/"
        },
        "outputId": "a54eeb51-305c-41f0-9291-821377875576"
      },
      "execution_count": null,
      "outputs": [
        {
          "output_type": "stream",
          "name": "stdout",
          "text": [
            "[3 8 8 ... 5 1 7]\n",
            "[[3]\n",
            " [8]\n",
            " [8]\n",
            " ...\n",
            " [5]\n",
            " [1]\n",
            " [7]]\n"
          ]
        }
      ]
    },
    {
      "cell_type": "code",
      "source": [],
      "metadata": {
        "id": "_U_xCExpoJK9"
      },
      "execution_count": null,
      "outputs": []
    }
  ]
}